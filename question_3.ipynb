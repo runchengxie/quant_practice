{
 "cells": [
  {
   "cell_type": "markdown",
   "metadata": {},
   "source": [
    "### **Products and Market Risk**\n",
    "\n",
    "**Question 3.**\n",
    "\n",
    "Implement the multi-step binomial method as described in Binomial Method lecture with\n",
    "the following variables and parameters: stock S = 100, interest rate r = 0.05 (continuously compounded)\n",
    "for a call option with strike E = 100, and maturity T = 1. European payoff.\n",
    "\n",
    "- Use any suitable parameterization for up and down moves uS, vS.\n",
    "\n",
    "- Plot 1: compute option value for a range of volatility [0.05, . . . , 0.80] and plot the result (volatility at axe X, and option value axe Y). Trees to have a minimum four time steps.\n",
    "\n",
    "- Plot 2: now, set σimp = 0.2 and compute and plot the value of one option, as you increase the\n",
    "number of time steps NT S = 4, 5, . . . , 50.\n",
    "\n",
    "Hint: This is a computational problem best coded in Python. You can visualize 1-2 trees (optional) but\n",
    "especially in case of Excel computation, do not provide multiple pages of individual pricing trees."
   ]
  },
  {
   "cell_type": "markdown",
   "metadata": {},
   "source": [
    "**Step 1: parameterization of the ups and downs**\n",
    "\n",
    "In binominal model we typically consider the length of 1 time step as $\\Delta t = \\frac {T} {N}$, here, N is the time step\n",
    "\n",
    "One of the commonly used model is Cox-Ross-Rubinstein, which has a parameterization set of:\n",
    "\n",
    "$$ \\mu = e^{\\sigma \\sqrt {\\Delta t}}, \\quad d = e^{- \\sigma \\sqrt {\\Delta t}}$$\n",
    "\n",
    "Thus making the up and down movement symmetrical and relates to volatility and time step.\n",
    "\n",
    "**Step 2: risk neutral probability**\n",
    "\n",
    "Binominal model assumes risk neutral, thus, the risk neutral probability is calculated as:\n",
    "\n",
    "$$q = \\frac {e^{r \\Delta t} - d } {u - d}$$\n",
    "\n",
    "Now with $u, d, q$ in place, we can now construct the price movement tree and option value tree.\n",
    "\n",
    "**Step 3: constructing the price movement tree and calculate option value backward**\n",
    "\n",
    "For a binominal tree with N steps, we consider the price tree as:\n",
    "\n",
    "- Step 0 with price $S_0 = 100$\n",
    "\n",
    "- Step 1 with two nodes of $S_{0u}$ and $S_{0d}$\n",
    "\n",
    "- Step 2 with three nodes of $S_{0u^2}$, $S_{0ud}$ and $S_{0d^2}$\n",
    "\n",
    "- Continuing until step N with N+1 nodes\n",
    "\n",
    "For a european option, the option value at the time of N is:\n",
    "\n",
    "$$C_{N,j} = max (S_{N,j} - E, 0)$$\n",
    "\n",
    "which, S_{N,j} represent the j node of the Nth step (j ranges from 0 to N)\n",
    "\n",
    "Then we calculate backward\n",
    "\n",
    "$$C_{N,j} = e^{- r \\Delta t} [qC_{N+1,j+1} + (1 - q) C_{N+1,j}]$$\n",
    "\n",
    "Eventually, $C_{0,0}$ is the option price\n",
    "\n",
    "**Step 4: **"
   ]
  },
  {
   "cell_type": "markdown",
   "metadata": {},
   "source": []
  },
  {
   "cell_type": "markdown",
   "metadata": {},
   "source": []
  }
 ],
 "metadata": {
  "language_info": {
   "name": "python"
  }
 },
 "nbformat": 4,
 "nbformat_minor": 2
}
