{
 "cells": [
  {
   "cell_type": "markdown",
   "metadata": {},
   "source": [
    "### An investment universe of the following risky assets with a dependence structure (correlation) applies to all questions below as relevant:\n",
    "\n",
    "$$\n",
    "\\begin{array}{cccc}\n",
    "\\text{Asset} & \\mu & \\sigma & w \\\\\n",
    "\\hline\n",
    "A & 0.02 & 0.05 & w_1 \\\\\n",
    "B & 0.07 & 0.12 & w_2 \\\\\n",
    "C & 0.15 & 0.17 & w_3 \\\\\n",
    "D & 0.20 & 0.25 & w_4\n",
    "\\end{array}\n",
    "$$\n",
    "\n",
    "$$\n",
    "R = \\begin{pmatrix}\n",
    "1 & 0.3 & 0.3 & 0.3 \\\\\n",
    "0.3 & 1 & 0.6 & 0.6 \\\\\n",
    "0.3 & 0.6 & 1 & 0.6 \\\\\n",
    "0.3 & 0.6 & 0.6 & 1\n",
    "\\end{pmatrix}\n",
    "$$\n",
    "\n",
    "**Question 1.1.** Consider the min variance portfolio with a target return $m$.\n",
    "\n",
    "$$ \\underset{w}{\\text{argmin}} \\frac{1}{2}w'\\Sigma w \\qquad \\text{s.t.} \\quad w'\\mathbf{1}=1 \\qquad \\mu_{\\Pi}=w'\\mu=m$$"
   ]
  },
  {
   "cell_type": "markdown",
   "metadata": {},
   "source": [
    "**Q: Formulate the Lagrangian and give its partial derivatives.**\n",
    "\n",
    "**A:**\n",
    "\n",
    "\n",
    "$$ \\mathcal{L}(w,\\lambda,\\gamma) = \\frac{1}{2}w'\\Sigma w - \\lambda(w'1-1) - \\gamma(w'\\mu-m) $$\n",
    "\n",
    "with partial derivatives on $w$ \n",
    "\n",
    "$$ \\frac{\\partial \\mathcal{L}}{\\partial w} = \\Sigma w - \\lambda 1 - \\gamma \\mu = 0 $$\n"
   ]
  },
  {
   "cell_type": "markdown",
   "metadata": {},
   "source": [
    "**Q: Write down the analytical solution for $w∗$ optimal allocations – no derivation required.**\n",
    "\n",
    "**A:**\n",
    "\n",
    "$$ w^* = \\frac{C - B m}{A C - B^2} \\Sigma^{-1} 1 + \\frac{A m - B}{A C - B^2} \\Sigma^{-1} \\mu $$\n"
   ]
  },
  {
   "cell_type": "markdown",
   "metadata": {},
   "source": [
    "**Q: Compute allocations $w∗$ and portfolio risk $\\sigma_{\\Pi} = \\sqrt{w'\\Sigma w}$ for $m$ = 4.5%.**\n",
    "\n",
    "**A:**\n"
   ]
  },
  {
   "cell_type": "code",
   "execution_count": 1,
   "metadata": {},
   "outputs": [
    {
     "name": "stdout",
     "output_type": "stream",
     "text": [
      "Optimal weights w* for m=4.5%:\n",
      "Asset 1: 0.785111\n",
      "Asset 2: 0.053864\n",
      "Asset 3: 0.133555\n",
      "Asset 4: 0.027470\n",
      "Portfolio risk σ_Π: 0.058401\n"
     ]
    }
   ],
   "source": [
    "import numpy as np\n",
    "\n",
    "# Known data\n",
    "mu = np.array([0.02, 0.07, 0.15, 0.20])   # Expected return vector\n",
    "sigma = np.array([0.05, 0.12, 0.17, 0.25]) # Standard deviation vector\n",
    "R = np.array([\n",
    "    [1.0, 0.3, 0.3, 0.3],\n",
    "    [0.3, 1.0, 0.6, 0.6],\n",
    "    [0.3, 0.6, 1.0, 0.6],\n",
    "    [0.3, 0.6, 0.6, 1.0]\n",
    "])\n",
    "\n",
    "m = 0.045  # Target return 4.5%\n",
    "\n",
    "# Construct covariance matrix Σ = D R D\n",
    "D = np.diag(sigma)         # Diagonal matrix D\n",
    "Sigma = D @ R @ D          # Matrix multiplication to build Σ\n",
    "\n",
    "# Calculate Σ⁻¹\n",
    "Sigma_inv = np.linalg.inv(Sigma)\n",
    "\n",
    "# Define vector of ones\n",
    "ones = np.ones(len(mu))\n",
    "\n",
    "# Calculate A, B, C\n",
    "A = ones @ Sigma_inv @ ones\n",
    "B = ones @ Sigma_inv @ mu\n",
    "C = mu @ Sigma_inv @ mu\n",
    "\n",
    "# Calculate w* using the formula\n",
    "w_star = ((C - B*m)/(A*C - B**2)) * (Sigma_inv @ ones) + ((A*m - B)/(A*C - B**2)) * (Sigma_inv @ mu)\n",
    "\n",
    "# Output results\n",
    "print(\"Optimal weights w* for m=4.5%:\")\n",
    "for i, w in enumerate(w_star, start=1):\n",
    "    print(f\"Asset {i}: {w:.6f}\")\n",
    "\n",
    "# Calculate portfolio risk:\n",
    "portfolio_variance = w_star @ Sigma @ w_star\n",
    "portfolio_risk = np.sqrt(portfolio_variance)\n",
    "print(f\"Portfolio risk σ_Π: {portfolio_risk:.6f}\")"
   ]
  },
  {
   "cell_type": "code",
   "execution_count": 2,
   "metadata": {},
   "outputs": [
    {
     "name": "stdout",
     "output_type": "stream",
     "text": [
      "Portfolio expected return: 0.045000\n",
      "Verification passed: Portfolio expected return is close to target return.\n",
      "Verification passed: Portfolio weights sum to 1.\n"
     ]
    }
   ],
   "source": [
    "# Check answers\n",
    "\n",
    "# Verify using optimized weights\n",
    "\n",
    "# Calculate portfolio expected return\n",
    "portfolio_return = mu @ w_star\n",
    "print(f\"Portfolio expected return: {portfolio_return:.6f}\")\n",
    "\n",
    "# Check if close to target return\n",
    "if np.isclose(portfolio_return, m):\n",
    "    print(\"Verification passed: Portfolio expected return is close to target return.\")\n",
    "else:\n",
    "    print(\"Verification failed: Portfolio expected return does not match target return.\")\n",
    "    \n",
    "# Check if weights sum to 1\n",
    "total_weight = np.sum(w_star)\n",
    "if np.isclose(total_weight, 1.0):\n",
    "    print(\"Verification passed: Portfolio weights sum to 1.\")\n",
    "else:\n",
    "    print(\"Verification failed: Portfolio weights do not sum to 1.\")"
   ]
  },
  {
   "cell_type": "markdown",
   "metadata": {},
   "source": [
    "**Question 1.2. Instead of computing other optimal allocations by formula, let’s conduct an experiment.**\n",
    "\n",
    "* Generate above 700 random allocation sets: 4 × 1 vectors. Each set has to satisfy the constraint $w′1 = 1$. In fact, once you generate three random numbers $w_1, w_2, w_3$   , the 4th can be computed.\n",
    "\n",
    "* Weights will not be optimal and can be negative.\n",
    "\n",
    "* Compute $\\mu_{\\Pi} = w′\\mu$ and $\\sigma_{\\Pi} = \\sqrt{w′\\Sigma w}$ for each set.\n",
    "\n",
    "* Plot points with coordinates $\\mu_{\\Pi}$ on the vertical axis and $\\sigma_{\\Pi}$ on the horizontal axis.\n",
    "\n",
    "* Identify the shape and explain this plot.\n",
    "\n",
    "**A:**"
   ]
  }
 ],
 "metadata": {
  "kernelspec": {
   "display_name": "cqf",
   "language": "python",
   "name": "python3"
  },
  "language_info": {
   "codemirror_mode": {
    "name": "ipython",
    "version": 3
   },
   "file_extension": ".py",
   "mimetype": "text/x-python",
   "name": "python",
   "nbconvert_exporter": "python",
   "pygments_lexer": "ipython3",
   "version": "3.13.1"
  }
 },
 "nbformat": 4,
 "nbformat_minor": 2
}
