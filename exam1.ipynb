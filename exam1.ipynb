{
 "cells": [
  {
   "cell_type": "markdown",
   "metadata": {},
   "source": [
    "$$ \\mathcal{L}(w,\\lambda,\\gamma) = \\frac{1}{2}w'\\Sigma w - \\lambda(w'1-1) - \\gamma(w'\\mu-m) $$"
   ]
  },
  {
   "cell_type": "code",
   "execution_count": 1,
   "metadata": {},
   "outputs": [
    {
     "name": "stdout",
     "output_type": "stream",
     "text": [
      "Optimal weights w* for m=4.5%:\n",
      "Asset 1: 0.785111\n",
      "Asset 2: 0.053864\n",
      "Asset 3: 0.133555\n",
      "Asset 4: 0.027470\n",
      "Portfolio risk σ_Π: 0.058401\n"
     ]
    }
   ],
   "source": [
    "import numpy as np\n",
    "\n",
    "# 已知数据\n",
    "mu = np.array([0.02, 0.07, 0.15, 0.20])   # 期望收益率向量\n",
    "sigma = np.array([0.05, 0.12, 0.17, 0.25]) # 标准差向量\n",
    "R = np.array([\n",
    "    [1.0, 0.3, 0.3, 0.3],\n",
    "    [0.3, 1.0, 0.6, 0.6],\n",
    "    [0.3, 0.6, 1.0, 0.6],\n",
    "    [0.3, 0.6, 0.6, 1.0]\n",
    "])\n",
    "\n",
    "m = 0.045  # 目标收益率4.5%\n",
    "\n",
    "# 构建协方差矩阵Σ = D R D\n",
    "D = np.diag(sigma)         # 对角矩阵D\n",
    "Sigma = D @ R @ D          # 矩阵乘法构建Σ\n",
    "\n",
    "# 求Σ⁻¹\n",
    "Sigma_inv = np.linalg.inv(Sigma)\n",
    "\n",
    "# 定义向量1\n",
    "ones = np.ones(len(mu))\n",
    "\n",
    "# 计算A、B、C\n",
    "A = ones @ Sigma_inv @ ones\n",
    "B = ones @ Sigma_inv @ mu\n",
    "C = mu @ Sigma_inv @ mu\n",
    "\n",
    "# 根据公式计算w*\n",
    "w_star = ((C - B*m)/(A*C - B**2)) * (Sigma_inv @ ones) + ((A*m - B)/(A*C - B**2)) * (Sigma_inv @ mu)\n",
    "\n",
    "# 输出结果\n",
    "print(\"Optimal weights w* for m=4.5%:\")\n",
    "for i, w in enumerate(w_star, start=1):\n",
    "    print(f\"Asset {i}: {w:.6f}\")\n",
    "\n",
    "# 计算组合风险:\n",
    "portfolio_variance = w_star @ Sigma @ w_star\n",
    "portfolio_risk = np.sqrt(portfolio_variance)\n",
    "print(f\"Portfolio risk σ_Π: {portfolio_risk:.6f}\")"
   ]
  },
  {
   "cell_type": "code",
   "execution_count": 2,
   "metadata": {},
   "outputs": [
    {
     "name": "stdout",
     "output_type": "stream",
     "text": [
      "组合的预期收益率: 0.045000\n",
      "验证通过：组合的预期收益率接近目标收益率。\n",
      "验证通过：组合的权重之和为1。\n"
     ]
    }
   ],
   "source": [
    "# 检查答案\n",
    "\n",
    "# 使用优化后的权重进行验证\n",
    "\n",
    "# 计算组合的预期收益率\n",
    "portfolio_return = mu @ w_star\n",
    "print(f\"组合的预期收益率: {portfolio_return:.6f}\")\n",
    "\n",
    "# 检查是否接近期望的目标收益率\n",
    "if np.isclose(portfolio_return, m):\n",
    "    print(\"验证通过：组合的预期收益率接近目标收益率。\")\n",
    "else:\n",
    "    print(\"验证失败：组合的预期收益率与目标收益率不符。\")\n",
    "    \n",
    "# 检查权重之和是否为1\n",
    "total_weight = np.sum(w_star)\n",
    "if np.isclose(total_weight, 1.0):\n",
    "    print(\"验证通过：组合的权重之和为1。\")\n",
    "else:\n",
    "    print(\"验证失败：组合的权重之和不为1。\")"
   ]
  }
 ],
 "metadata": {
  "kernelspec": {
   "display_name": "cqf",
   "language": "python",
   "name": "python3"
  },
  "language_info": {
   "codemirror_mode": {
    "name": "ipython",
    "version": 3
   },
   "file_extension": ".py",
   "mimetype": "text/x-python",
   "name": "python",
   "nbconvert_exporter": "python",
   "pygments_lexer": "ipython3",
   "version": "3.13.1"
  }
 },
 "nbformat": 4,
 "nbformat_minor": 2
}
