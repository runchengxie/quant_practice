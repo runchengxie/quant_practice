{
 "cells": [
  {
   "cell_type": "markdown",
   "metadata": {},
   "source": [
    "### **Optimal Portfolio Allocation 2**\n",
    "\n",
    "**Question 2.**  \n",
    "VaR and ES sensitivities are computed *with regard to* each asset $i$, individually. For the given allocated portfolio below, provide a summary table with computed $\\frac{\\partial \\text{VaR}(w)}{\\partial w_i}$ and $\\frac{\\partial \\text{ES}(w)}{\\partial w_i}$.\n",
    "\n",
    "$$\n",
    "\\begin{array}{cccc}\n",
    "\\textbf{Asset} & \\mu & \\sigma & w \\\\\n",
    "\\hline\n",
    "1 & 0 & 0.30 & 50\\% \\\\\n",
    "2 & 0 & 0.20 & 20\\% \\\\\n",
    "3 & 0 & 0.15 & 30\\% \\\\\n",
    "\\end{array}\n",
    "$$\n",
    "\n",
    "$$\n",
    "\\text{Corr} =\n",
    "\\begin{pmatrix}\n",
    "1   & 0.8 & 0.5 \\\\\n",
    "0.8 & 1   & 0.3 \\\\\n",
    "0.5 & 0.3 & 1\n",
    "\\end{pmatrix}\n",
    "$$\n",
    "\n",
    "$$\n",
    "\\frac{\\partial \\text{VaR}(w)}{\\partial w_i} = \\mu_i + \\text{Factor} \\times \\frac{(\\Sigma w)_i}{\\sqrt{w^T \\Sigma w}}\n",
    "\\qquad \\text{and} \\qquad\n",
    "\\frac{\\partial \\text{ES}(w)}{\\partial w_i} = \\mu_i + \\frac{\\phi(\\text{Factor})}{1 - c} \\times \\frac{(\\Sigma w)_i}{\\sqrt{w^T \\Sigma w}}\n",
    "$$\n",
    "\n",
    "\n",
    "Confidence $c = 99\\%$, and $\\Phi^{-1}(1 - c)$ Factor is computed with *Normal icdf*. Signs in formulae are as intended and will not be discussed.\n",
    "\n",
    "Hint: this is a task on reading the formulae in order to compute. Bold notation means vector computation and $( )_i$ refers to $i$-th element, no further hints given."
   ]
  },
  {
   "cell_type": "markdown",
   "metadata": {},
   "source": [
    "**A:**\n",
    "\n",
    "**Foundational formula:**\n",
    "\n",
    "1. The way to calculate the covariance $\\Sigma$ is:\n",
    "\n",
    "$$ \\Sigma_{ij} = \\sigma_i \\sigma_j \\text{Corr}_{ij} $$\n",
    "\n",
    "2. In the confidence interval of $c=99\\%$, then $1-c=0.01$\n",
    "\n",
    "Factor is defined as the quantile of standard normal distribution.\n",
    "\n",
    "$$\\text{Factor} = \\Phi^{-1}(1-c)=\\Phi^{-1}(0.01)$$"
   ]
  },
  {
   "cell_type": "code",
   "execution_count": 2,
   "metadata": {},
   "outputs": [
    {
     "name": "stdout",
     "output_type": "stream",
     "text": [
      "Φ^(-1)(0.01) = -2.3263478740408408\n"
     ]
    }
   ],
   "source": [
    "from scipy.stats import norm\n",
    "\n",
    "# Probability value\n",
    "p_value = 0.01\n",
    "\n",
    "# Calculate the inverse CDF\n",
    "inverse_cdf = norm.ppf(p_value)\n",
    "\n",
    "# Output the result\n",
    "print(f'Φ^(-1)(0.01) = {inverse_cdf}')"
   ]
  },
  {
   "cell_type": "markdown",
   "metadata": {},
   "source": [
    "And $\\Phi^{-1}(0.01) \\approx -2.33$"
   ]
  },
  {
   "cell_type": "markdown",
   "metadata": {},
   "source": [
    "\n",
    "3. The standard normal probability density function $ \\phi(x)$ when $x = \\text{Factor}$ is calculated as:\n",
    "\n",
    "$$ \\phi(x) = \\frac{1}{\\sqrt{2\\pi}} e^{-x^2/2} $$\n",
    "\n",
    "for x = -2.33, $\\phi(-2.33) \\approx 0.0264$\n",
    "\n",
    "4. The sensitivity calculation (derivatives):\n",
    "\n",
    "$$\\begin{align*}\n",
    "\\frac{\\partial \\text{VaR}(w)}{\\partial w_i} &= \\mu_i + \\text{Factor} \\times \\frac{(\\Sigma w)_i}{\\sqrt{w^T \\Sigma w}}\\\\\n",
    "\\frac{\\partial \\text{ES}(w)}{\\partial w_i} &= \\mu_i - \\frac{\\phi(\\text{Factor})}{1 - c} \\times \\frac{(\\Sigma w)_i}{\\sqrt{w^T \\Sigma w}}\n",
    "\\end{align*}$$\n",
    "\n",
    "and $\\mu_i=0$ for all assets are given."
   ]
  },
  {
   "cell_type": "markdown",
   "metadata": {},
   "source": [
    "**Steps for calculations:**\n",
    "\n",
    "**Step 1: calculate the covariance matrix**\n",
    "\n",
    "$$\\begin{align*}\n",
    "\\Sigma_{11}&=\\sigma_1^2\\times 1=0.30^2\\times 1=0.09\\\\\n",
    "\\Sigma_{12}&=\\sigma_1\\sigma_2 \\text{Corr}_{12}=0.30\\times 0.20\\times 0.8=0.048\\\\\n",
    "\\Sigma_{13}&=\\sigma_1\\sigma_3 \\text{Corr}_{13}=0.30\\times 0.15\\times 0.5=0.0225\\\\\n",
    "\\Sigma_{22}&=\\sigma_2^2=0.20^2=0.04\\\\\n",
    "\\Sigma_{23}&=\\sigma_2\\sigma_3 \\text{Corr}_{23}=0.20\\times 0.15\\times 0.3=0.009\\\\\n",
    "\\Sigma_{33}&=\\sigma_3^2=0.15^2=0.0225\n",
    "\\end{align*}$$\n",
    "\n",
    "the covariance matrix is symetrical, so:\n",
    "\n",
    "$$\\Sigma =\\begin{pmatrix}0.09&0.048&0.0225\\\\0.048&0.04&0.009\\\\0.0225&0.009&0.0225\\end{pmatrix}$$\n",
    "\n",
    "**Step 2: and now we calculate the contribution of risk of each of the assets**\n",
    "\n",
    "$$\\begin{align*}\n",
    "(\\Sigma w)_1 &= 0.09 \\times 0.5 + 0.048 \\times 0.2 + 0.0225 \\times 0.3 = 0.045 + 0.0096 + 0.00675 = 0.06135\\\\\n",
    "(\\Sigma w)_2 &= 0.048 \\times 0.5 + 0.04 \\times 0.2 + 0.009 \\times 0.3 = 0.024 + 0.008 + 0.0027 = 0.0347\\\\\n",
    "(\\Sigma w)_3 &= 0.0225 \\times 0.5 + 0.009 \\times 0.2 + 0.0225 \\times 0.3 = 0.01125 + 0.0018 + 0.00675 = 0.0198\n",
    "\\end{align*}$$\n",
    "\n",
    "Thus: \n",
    "\n",
    "$$\n",
    "\\Sigma w = (0.06135, 0.0347, 0.0198)\n",
    "$$\n",
    "\n",
    "**Step 3: calculate $w'\\Sigma w$**\n",
    "\n",
    "$$ w'\\Sigma w = 0.5 \\times 0.06135 + 0.2 \\times 0.0347 + 0.3 \\times 0.0198 \\\\\n",
    "            = 0.030675 + 0.00694 + 0.00594 = 0.043555$$\n",
    "\n",
    "$$\\sqrt{w^T\\Sigma w} = \\sqrt{0.043555} \\approx 0.208636$$\n",
    "\n",
    "**Step 4: determine $\\text{Factor}$ and $\\phi\\text{(Factor)}$**\n",
    "\n",
    "$$\\text{Factor} = \\Phi^{-1}(0.01) \\approx -2.33$$"
   ]
  },
  {
   "cell_type": "code",
   "execution_count": 4,
   "metadata": {},
   "outputs": [
    {
     "name": "stdout",
     "output_type": "stream",
     "text": [
      "φ(-2.33) = 0.026426485497261724\n"
     ]
    }
   ],
   "source": [
    "from scipy.stats import norm\n",
    "\n",
    "z = -2.33\n",
    "result = norm.pdf(z)\n",
    "print(f\"φ({z}) = {result}\")"
   ]
  },
  {
   "cell_type": "markdown",
   "metadata": {},
   "source": [
    "$\\phi(-2.33) \\approx 0.0264$"
   ]
  },
  {
   "cell_type": "markdown",
   "metadata": {},
   "source": [
    "\n",
    "**Step 5: calculate $\\frac{\\partial \\text{VaR}(w)}{\\partial w_i}$**\n",
    "\n",
    "Because $\\mu_i = 0$, so\n",
    "\n",
    "$$\\frac{\\partial \\text{VaR}}{\\partial w_i} = \\text{Factor} \\times \\frac{(\\Sigma w)_i}{\\sqrt{w^T \\Sigma w}}$$\n",
    "\n",
    "Calculate $\\frac{(\\Sigma w)_i}{\\sqrt{w^T \\Sigma w}}$ for each of the assets:\n",
    "For $i=1$:\n",
    "\n",
    "$$\\begin{align*}\n",
    "\\frac{(\\Sigma w)_1}{\\sqrt{w^T \\Sigma w}} &= \\frac{0.06135}{0.208636} \\approx 0.2939\\\\\n",
    "\\frac{\\partial \\text{VaR}}{\\partial w_1} &= -2.33 \\times 0.2939 \\approx -0.685\n",
    "\\end{align*}$$\n",
    "\n",
    "For $i=2$:\n",
    "\n",
    "$$\\begin{align*}\n",
    "\\frac{(\\Sigma w)_2}{\\sqrt{w^T \\Sigma w}} &= \\frac{0.0347}{0.208636} \\approx 0.1663\\\\\n",
    "\\frac{\\partial \\text{VaR}}{\\partial w_2} &= -2.33 \\times 0.1663 \\approx -0.388\n",
    "\\end{align*}$$\n",
    "\n",
    "For $i=3$: \n",
    "\n",
    "$$\\begin{align*}\n",
    "\\frac{(\\Sigma w)_3}{\\sqrt{w^T \\Sigma w}} = \\frac{0.0198}{0.208636} \\approx 0.0949\\\\\n",
    "\\frac{\\partial \\text{VaR}}{\\partial w_3} = -2.33 \\times 0.0949 \\approx -0.221\n",
    "\\end{align*}$$\n",
    "\n",
    "**Step 6: calculate $\\frac{\\partial ES}{\\partial w_i}$**\n",
    "\n",
    "$$\\frac{\\partial ES}{\\partial w_i} = -\\frac{\\phi(\\text{Factor})}{1 - c} \\times \\frac{(\\Sigma w)_i}{\\sqrt{w^T \\Sigma w}}$$\n",
    "\n",
    "\n",
    "$(1 - c) = 0.01, \\quad \\phi(\\text{Factor}) = 0.0264$,\n",
    "\n",
    "thus,\n",
    "\n",
    "$$\\frac{\\phi(\\text{Factor})}{1 - c} = \\frac{0.0264}{0.01} = 2.64$$\n",
    "\n",
    "$$\\frac{\\partial ES}{\\partial w_i} = -2.64 \\times \\frac{(\\Sigma w)_i}{\\sqrt{w^T \\Sigma w}}$$\n",
    "\n",
    "The calculations are organized as follows:\n",
    "\n",
    "For $ i = 1 $:  \n",
    "Ratio $ = 0.2939 $\n",
    "\n",
    "$$\n",
    "\\frac{\\partial ES}{\\partial w_1} = -2.64 \\times 0.2939 \\approx -0.777\n",
    "$$\n",
    "\n",
    "For $ i = 2 $:\n",
    "Ratio $ = 0.1663 $\n",
    "\n",
    "$$\n",
    "\\frac{\\partial ES}{\\partial w_2} = -2.64 \\times 0.1663 \\approx -0.438\n",
    "$$\n",
    "\n",
    "For $ i = 3 $:\n",
    "Ratio $ = 0.0949 $\n",
    "\n",
    "$$\n",
    "\\frac{\\partial ES}{\\partial w_3} = -2.64 \\times 0.0949 \\approx -0.251\n",
    "$$\n"
   ]
  },
  {
   "cell_type": "markdown",
   "metadata": {},
   "source": [
    "Summarizing results into a table\n",
    "\n",
    "$$\n",
    "\\begin{array}{|c|c|c|}\n",
    "\\hline\n",
    "i & \\frac{\\partial \\text{VaR}}{\\partial w_i} & \\frac{\\partial \\text{ES}}{\\partial w_i} \\\\\n",
    "\\hline\n",
    "1 & -0.685 & -0.777 \\\\\n",
    "2 & -0.388 & -0.438 \\\\\n",
    "3 & -0.221 & -0.251 \\\\\n",
    "\\hline\n",
    "\\end{array}\n",
    "$$\n",
    "\n",
    "**Diguesting the table information:**\n",
    "\n",
    "The sensitivity of VaR and ES to weights tells us the direction and magnitude of changes in VaR and ES when the weight of a certain asset in the portfolio is increased. A negative result here indicates that, under the current settings, increasing the weight of these assets may raise the tail risk metrics (VaR and ES) of the portfolio. It is important to note the definition of VaR: generally, a positive VaR value represents the magnitude of potential losses. A negative derivative of VaR with respect to weight might imply, depending on the specific definition of VaR, that increasing the weight leads to a higher potential loss threshold. These signs should be interpreted according to the particular way VaR is defined."
   ]
  }
 ],
 "metadata": {
  "kernelspec": {
   "display_name": "cqf",
   "language": "python",
   "name": "python3"
  },
  "language_info": {
   "codemirror_mode": {
    "name": "ipython",
    "version": 3
   },
   "file_extension": ".py",
   "mimetype": "text/x-python",
   "name": "python",
   "nbconvert_exporter": "python",
   "pygments_lexer": "ipython3",
   "version": "3.13.1"
  }
 },
 "nbformat": 4,
 "nbformat_minor": 4
}
