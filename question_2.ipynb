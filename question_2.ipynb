{
 "cells": [
  {
   "cell_type": "markdown",
   "metadata": {},
   "source": [
    "### **Optimal Portfolio Allocation 2**\n",
    "\n",
    "**Question 2.**  \n",
    "VaR and ES sensitivities are computed *with regard to* each asset $i$, individually. For the given allocated portfolio below, provide a summary table with computed $\\frac{\\partial \\text{VaR}(w)}{\\partial w_i}$ and $\\frac{\\partial \\text{ES}(w)}{\\partial w_i}$.\n",
    "\n",
    "$$\n",
    "\\begin{array}{cccc}\n",
    "\\textbf{Asset} & \\mu & \\sigma & w \\\\\n",
    "\\hline\n",
    "1 & 0 & 0.30 & 50\\% \\\\\n",
    "2 & 0 & 0.20 & 20\\% \\\\\n",
    "3 & 0 & 0.15 & 30\\% \\\\\n",
    "\\end{array}\n",
    "$$\n",
    "\n",
    "$$\n",
    "\\text{Corr} =\n",
    "\\begin{pmatrix}\n",
    "1   & 0.8 & 0.5 \\\\\n",
    "0.8 & 1   & 0.3 \\\\\n",
    "0.5 & 0.3 & 1\n",
    "\\end{pmatrix}\n",
    "$$\n",
    "\n",
    "$$\n",
    "\\frac{\\partial \\text{VaR}(w)}{\\partial w_i} = \\mu_i + \\text{Factor} \\times \\frac{(\\Sigma w)_i}{\\sqrt{w^T \\Sigma w}}\n",
    "\\qquad \\text{and} \\qquad\n",
    "\\frac{\\partial \\text{ES}(w)}{\\partial w_i} = \\mu_i + \\frac{\\phi(\\text{Factor})}{1 - c} \\times \\frac{(\\Sigma w)_i}{\\sqrt{w^T \\Sigma w}}\n",
    "$$\n",
    "\n",
    "\n",
    "Confidence $c = 99\\%$, and $\\Phi^{-1}(1 - c)$ Factor is computed with *Normal icdf*. Signs in formulae are as intended and will not be discussed.\n",
    "\n",
    "Hint: this is a task on reading the formulae in order to compute. Bold notation means vector computation and $( )_i$ refers to $i$-th element, no further hints given."
   ]
  },
  {
   "cell_type": "markdown",
   "metadata": {},
   "source": [
    "**A:**\n",
    "\n",
    "The way to calculate the covariance $\\Sigma$ is:\n",
    "\n",
    "$$ \\Sigma_{ij} = \\sigma_i \\sigma_j \\text{Corr}_{ij} $$\n",
    "\n",
    "In the confidence interval of $c=99\\%$, then 1-c=0.01\n",
    "\n",
    "$$\\text{Factor} = \\Phi^{-1}(1-c)=\\Phi^{-1}(0.01)$$\n",
    "\n",
    "And $\\Phi^{-1}(0.01) \\approx -2.33$\n",
    "\n",
    "And the standard normal probability density function is \n",
    "\n"
   ]
  },
  {
   "cell_type": "markdown",
   "metadata": {},
   "source": []
  }
 ],
 "metadata": {
  "kernelspec": {
   "display_name": "cqf",
   "language": "python",
   "name": "python3"
  },
  "language_info": {
   "name": "python",
   "version": "3.13.1"
  }
 },
 "nbformat": 4,
 "nbformat_minor": 2
}
